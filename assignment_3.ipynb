{
 "cells": [
  {
   "cell_type": "code",
   "execution_count": 3,
   "metadata": {},
   "outputs": [
    {
     "name": "stdout",
     "output_type": "stream",
     "text": [
      "enter operation:pow\n",
      "enter base number:2\n",
      "enter power:4\n",
      "16\n"
     ]
    }
   ],
   "source": [
    "oper=input(\"enter operation:\")\n",
    "\n",
    "if oper=='+':\n",
    "    int1=int(input(\"enter first num:\"))\n",
    "    int2=int(input(\"enter second num:\"))\n",
    "    add=int1+int2\n",
    "    print(add)\n",
    "elif oper=='-':\n",
    "    int1=int(input(\"enter first num:\"))\n",
    "    int2=int(input(\"enter second num:\"))\n",
    "    sub=int1-int2\n",
    "    print(sub)\n",
    "elif oper=='*':\n",
    "    int1=int(input(\"enter first num:\"))\n",
    "    int2=int(input(\"enter second num:\"))\n",
    "    mul=int1*int2\n",
    "    print(mul)\n",
    "elif oper=='/':\n",
    "    int1=int(input(\"enter first num:\"))\n",
    "    int2=int(input(\"enter second num:\"))\n",
    "    div=int1/int2\n",
    "    print(div)\n",
    "elif oper=='pow':\n",
    "    base=int(input(\"enter base number:\"))\n",
    "    power=int(input(\"enter power:\"))\n",
    "    power=pow(base,power)\n",
    "    print(power)\n",
    "else:\n",
    "    print(\"please choose correct operator:\")"
   ]
  },
  {
   "cell_type": "code",
   "execution_count": 4,
   "metadata": {},
   "outputs": [
    {
     "name": "stdout",
     "output_type": "stream",
     "text": [
      "[34, 54, 12, 2, 1]\n"
     ]
    }
   ],
   "source": [
    "lists=[\"Ali\",34,54,'z',12,\"bilal\",2.432,1]\n",
    "new_list = []\n",
    "for value in lists:\n",
    "    try:\n",
    "        new_list.append(int(value))\n",
    "    except ValueError:\n",
    "        continue\n",
    "print(new_list)"
   ]
  },
  {
   "cell_type": "code",
   "execution_count": 5,
   "metadata": {},
   "outputs": [
    {
     "name": "stdout",
     "output_type": "stream",
     "text": [
      "{'Ali': 45, 'Azhar': 41, 'Saad': 32, 'Zafar': 47}\n",
      "\n",
      "updated data:\t\n",
      "\n",
      "{'Ali': 45, 'Azhar': 41, 'Saad': 32, 'Zafar': 47, 'Kalim': 37}\n"
     ]
    }
   ],
   "source": [
    "data={\"Ali\":45,\"Azhar\":41,\"Saad\":32,\"Zafar\":47}\n",
    "print(data)\n",
    "data[\"Kalim\"]=37\n",
    "print(\"\\nupdated data:\\t\\n\")\n",
    "print(data)"
   ]
  },
  {
   "cell_type": "code",
   "execution_count": 9,
   "metadata": {},
   "outputs": [
    {
     "name": "stdout",
     "output_type": "stream",
     "text": [
      "40\n",
      "40\n",
      "20\n",
      "25\n",
      "25\n",
      "\n",
      "Sum of all values is 150\n"
     ]
    }
   ],
   "source": [
    "data={\"Ali\":40,\"Azhar\":40,\"Saad\":20,\"Zafar\":25,\"Kalim\":25}\n",
    "total=0\n",
    "for marks in data.values():\n",
    "    print(marks)\n",
    "    total=marks+total\n",
    "    \n",
    "print(\"\\nSum of all values is\",total)"
   ]
  },
  {
   "cell_type": "code",
   "execution_count": 10,
   "metadata": {},
   "outputs": [
    {
     "name": "stdout",
     "output_type": "stream",
     "text": [
      "[0, 3, 4, 2]\n"
     ]
    }
   ],
   "source": [
    "lists=[0,3,4,6,2,1,3,4,5,8,9,0,3,3,2]\n",
    "length=len(lists)\n",
    "dupp=[]\n",
    "index=0\n",
    "for x in range(length):\n",
    "    element=lists[x]\n",
    "    for y in range(x+1,length):\n",
    "        element2=lists[y]\n",
    "        if element==element2:\n",
    "            lin=len(dupp)\n",
    "            if lin==0:\n",
    "                dupp.append(element2)\n",
    "            elif lin!=0:\n",
    "                for i in dupp:\n",
    "                    if i==element2:\n",
    "                        break\n",
    "                else:\n",
    "                    dupp.append(element2)\n",
    "                    index+=1\n",
    "        else:\n",
    "            continue\n",
    "print(dupp)"
   ]
  },
  {
   "cell_type": "code",
   "execution_count": 12,
   "metadata": {},
   "outputs": [
    {
     "name": "stdout",
     "output_type": "stream",
     "text": [
      "Enter you key:ali\n",
      "ali exist\n"
     ]
    }
   ],
   "source": [
    "data={\"ali\":45,\"kalim\":34,\"ahmed\":41,\"talha\":32,\"asad\":33}\n",
    "input_key=input(\"Enter you key:\")\n",
    "input_key=input_key.lower()\n",
    "for key in data.keys():\n",
    "    if input_key==key:\n",
    "        print(key,\"exist\")\n",
    "        break\n",
    "else:\n",
    "    print(input_key,\"not exist\")"
   ]
  },
  {
   "cell_type": "code",
   "execution_count": null,
   "metadata": {},
   "outputs": [],
   "source": []
  },
  {
   "cell_type": "code",
   "execution_count": null,
   "metadata": {},
   "outputs": [],
   "source": []
  }
 ],
 "metadata": {
  "kernelspec": {
   "display_name": "Python 3",
   "language": "python",
   "name": "python3"
  },
  "language_info": {
   "codemirror_mode": {
    "name": "ipython",
    "version": 3
   },
   "file_extension": ".py",
   "mimetype": "text/x-python",
   "name": "python",
   "nbconvert_exporter": "python",
   "pygments_lexer": "ipython3",
   "version": "3.7.4"
  }
 },
 "nbformat": 4,
 "nbformat_minor": 2
}
