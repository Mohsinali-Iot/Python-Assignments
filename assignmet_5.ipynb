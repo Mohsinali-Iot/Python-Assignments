{
 "cells": [
  {
   "cell_type": "code",
   "execution_count": 9,
   "metadata": {},
   "outputs": [
    {
     "name": "stdout",
     "output_type": "stream",
     "text": [
      "Enter your number which you find factorial:3\n",
      "Factorial of 3 is 6:\n",
      "You want to run it again:\n",
      " If yes press 'y' and if no press 'n': y\n",
      "Enter your number which you find factorial:4\n",
      "Factorial of 4 is 24:\n",
      "You want to run it again:\n",
      " If yes press 'y' and if no press 'n': n\n"
     ]
    }
   ],
   "source": [
    "def factorials(num):\n",
    "    fact=1\n",
    "    while num>0:\n",
    "        fact=fact*num\n",
    "        num=num-1\n",
    "        if num==0:\n",
    "            break\n",
    "    return fact\n",
    "while True:\n",
    "    \n",
    "    num=int(input(\"Enter your number which you find factorial:\"))\n",
    "    if num>0:\n",
    "        fact=factorials(num)\n",
    "        print (\"Factorial of {} is {}:\".format(num,fact))\n",
    "        feed=input(\"You want to run it again:\\n If yes press 'y' and if no press 'n': \")\n",
    "    else:\n",
    "        print(\"Please enter you number which is greater than 0\")\n",
    "        feed=input(\"You want to run it again: \")\n",
    "    if feed=='Y' or feed=='y':\n",
    "        continue\n",
    "    elif feed=='n' or feed=='N':\n",
    "        break;"
   ]
  },
  {
   "cell_type": "code",
   "execution_count": 8,
   "metadata": {},
   "outputs": [
    {
     "name": "stdout",
     "output_type": "stream",
     "text": [
      "Enter you String:AhmedZafar2222\n",
      "Upper case length:2\n",
      "lower case length:8\n",
      "total length of word: 14\n"
     ]
    }
   ],
   "source": [
    "def counter(letter):\n",
    "    up=0\n",
    "    low=0\n",
    "    for i in letter:\n",
    "        if i.isupper():\n",
    "            up=up+1\n",
    "        elif i.islower():\n",
    "            low=low+1\n",
    "    print(\"Upper case length:{}\\nlower case length:{}\".format(up,low))\n",
    "            \n",
    "    \n",
    "data=input(\"Enter you String:\")\n",
    "counter(data)\n",
    "print(\"total length of word:\",len(data))\n",
    "    "
   ]
  },
  {
   "cell_type": "code",
   "execution_count": 10,
   "metadata": {},
   "outputs": [
    {
     "name": "stdout",
     "output_type": "stream",
     "text": [
      "Even numbers are: [2, 8, 6]\n"
     ]
    }
   ],
   "source": [
    "def even(lists):\n",
    "    even_num=[]\n",
    "    for i in lists:\n",
    "        if i%2==0:\n",
    "            even_num.append(i)\n",
    "    print(\"Even numbers are:\",even_num)\n",
    "    \n",
    "lists=[1,2,3,5,8,6,3]\n",
    "even(lists)"
   ]
  },
  {
   "cell_type": "code",
   "execution_count": 12,
   "metadata": {},
   "outputs": [
    {
     "name": "stdout",
     "output_type": "stream",
     "text": [
      "Enter your String to check weather it is palidrome or not:pop\n",
      "Yes pop is palindrome\n"
     ]
    }
   ],
   "source": [
    "def palidrome(string):\n",
    "    return string[::-1]\n",
    "\n",
    "s=input(\"Enter your String to check weather it is palidrome or not:\").lower()\n",
    "r_string=palidrome(s)\n",
    "if s==r_string:\n",
    "    print(\"Yes {} is palindrome\".format(s))\n",
    "else:\n",
    "    print(\"No  {} is not a palindrome\".format(s))"
   ]
  },
  {
   "cell_type": "code",
   "execution_count": 15,
   "metadata": {},
   "outputs": [
    {
     "name": "stdout",
     "output_type": "stream",
     "text": [
      "Enter you number to find wether it is prime or not:4\n",
      "4 is a prime number\n",
      "Enter you number to find wether it is prime or not:21\n",
      "21 not a prime number\n",
      "Enter you number to find wether it is prime or not:7\n",
      "7 is a prime number\n",
      "Enter you number to find wether it is prime or not:-3\n",
      "Sorry wrong input\n"
     ]
    }
   ],
   "source": [
    "while True:\n",
    "    num=int(input(\"Enter you number to find wether it is prime or not:\"))\n",
    "    if num>1:\n",
    "        for i in range(2,num//2):\n",
    "            if num%i==0:\n",
    "                print(\"{} not a prime number\".format(num))\n",
    "                break\n",
    "        else:\n",
    "            print(\"{} is a prime number\".format(num))\n",
    "    else:\n",
    "        print(\"Sorry wrong input\")\n",
    "        break\n",
    "            \n",
    "        "
   ]
  },
  {
   "cell_type": "code",
   "execution_count": 14,
   "metadata": {},
   "outputs": [
    {
     "name": "stdout",
     "output_type": "stream",
     "text": [
      "item1: apple\n",
      "item2: onions\n",
      "item3: wheat\n",
      "item4: mango\n",
      "item5: tomatoes\n"
     ]
    }
   ],
   "source": [
    "def dsplay(**lists):\n",
    "    for (i,j) in lists.items():\n",
    "        print(\"{}: {}\".format(i,j))\n",
    "dsplay(item1=\"apple\",item2=\"onions\",item3=\"wheat\",item4=\"mango\",item5=\"tomatoes\")"
   ]
  },
  {
   "cell_type": "code",
   "execution_count": null,
   "metadata": {},
   "outputs": [],
   "source": []
  },
  {
   "cell_type": "code",
   "execution_count": null,
   "metadata": {},
   "outputs": [],
   "source": []
  }
 ],
 "metadata": {
  "kernelspec": {
   "display_name": "Python 3",
   "language": "python",
   "name": "python3"
  },
  "language_info": {
   "codemirror_mode": {
    "name": "ipython",
    "version": 3
   },
   "file_extension": ".py",
   "mimetype": "text/x-python",
   "name": "python",
   "nbconvert_exporter": "python",
   "pygments_lexer": "ipython3",
   "version": "3.7.4"
  }
 },
 "nbformat": 4,
 "nbformat_minor": 2
}
