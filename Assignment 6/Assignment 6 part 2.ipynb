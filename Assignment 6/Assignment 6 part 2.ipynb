{
 "cells": [
  {
   "cell_type": "code",
   "execution_count": 38,
   "metadata": {},
   "outputs": [
    {
     "name": "stdout",
     "output_type": "stream",
     "text": [
      "('suzuki', 'Mehran')\n",
      "2009\n",
      "('good', 'Silver')\n",
      "\n",
      "\n",
      "('suzuki', 'Alto')\n",
      "2019\n",
      "('excellent', 'Cool Beige')\n",
      "\n",
      "\n",
      "('Toyota', 'Vitz')\n",
      "2012\n",
      "('bad', 'Silver')\n",
      "\n",
      "\n",
      "('Toyota', 'Corolla')\n",
      "2018\n",
      "('bad', 'White')\n",
      "\n",
      "\n",
      "('suzuki', 'Every')\n",
      "2009\n",
      "('mint', 'White')\n"
     ]
    }
   ],
   "source": [
    "class Car():\n",
    "    def __init__(self,company,car_name,model,colour,condition):\n",
    "        self.company=company\n",
    "        self.car_name=car_name\n",
    "        self.model=model\n",
    "        self.colour=colour\n",
    "        self.condition=condition\n",
    "    def brand(self):\n",
    "        return(self.company,self.car_name)\n",
    "    def models(self):\n",
    "        return(self.model)\n",
    "    def other(self):\n",
    "        return(self.condition,self.colour)\n",
    "car1=Car(\"suzuki\",\"Mehran\",2009,\"Silver\",\"good\")\n",
    "car2=Car(\"suzuki\",\"Alto\",2019,\"Cool Beige\",\"excellent\")\n",
    "car3=Car(\"Toyota\",\"Vitz\",2012,\"Silver\",\"bad\")\n",
    "car4=Car(\"Toyota\",\"Corolla\",2018,\"White\",\"bad\")\n",
    "car5=Car(\"suzuki\",\"Every\",2009,\"White\",\"mint\")\n",
    "print(car1.brand())\n",
    "print(car1.models())\n",
    "print(car1.other())\n",
    "print(\"\\n\")\n",
    "print(car2.brand())\n",
    "print(car2.models())\n",
    "print(car2.other())\n",
    "print(\"\\n\")\n",
    "print(car3.brand())\n",
    "print(car3.models())\n",
    "print(car3.other())\n",
    "print(\"\\n\")\n",
    "print(car4.brand())\n",
    "print(car4.models())\n",
    "print(car4.other())\n",
    "print(\"\\n\")\n",
    "print(car5.brand())\n",
    "print(car5.models())\n",
    "print(car5.other())"
   ]
  },
  {
   "cell_type": "code",
   "execution_count": null,
   "metadata": {},
   "outputs": [],
   "source": []
  },
  {
   "cell_type": "code",
   "execution_count": null,
   "metadata": {},
   "outputs": [],
   "source": []
  }
 ],
 "metadata": {
  "kernelspec": {
   "display_name": "Python 3",
   "language": "python",
   "name": "python3"
  },
  "language_info": {
   "codemirror_mode": {
    "name": "ipython",
    "version": 3
   },
   "file_extension": ".py",
   "mimetype": "text/x-python",
   "name": "python",
   "nbconvert_exporter": "python",
   "pygments_lexer": "ipython3",
   "version": "3.7.4"
  }
 },
 "nbformat": 4,
 "nbformat_minor": 2
}
