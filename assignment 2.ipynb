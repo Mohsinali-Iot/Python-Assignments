{
 "cells": [
  {
   "cell_type": "code",
   "execution_count": 49,
   "metadata": {},
   "outputs": [
    {
     "name": "stdout",
     "output_type": "stream",
     "text": [
      "Enter maths marks33\n",
      "Enter urdu marks33\n",
      "Enter english marks3\n",
      "Enter physics marks56\n",
      "Enter chemistry marks76\n",
      "obtained maks: 201\n",
      "percentage: 40.2\n",
      "D grade\n"
     ]
    }
   ],
   "source": [
    "maths=int(input(\"Enter maths marks\"))\n",
    "urdu=int(input(\"Enter urdu marks\"))\n",
    "english=int(input(\"Enter english marks\"))\n",
    "physics=int(input(\"Enter physics marks\"))\n",
    "chemistry=int(input(\"Enter chemistry marks\"))\n",
    "total=maths+physics+urdu+english+chemistry\n",
    "per=total*100/500\n",
    "print(\"obtained maks:\",total)\n",
    "print(\"percentage:\",per)\n",
    "if per>80 and per<=100:\n",
    "    print(\"A+ grade\")\n",
    "elif per>70 and per<=80 :\n",
    "    print(\"A grade\")\n",
    "elif per>60 and per<=70:\n",
    "    print(\"B grade\")\n",
    "elif per>50 and per<=60:\n",
    "    print(\"C grade\")\n",
    "elif per>40 and per<=50:\n",
    "    print(\"D grade\")\n",
    "elif per>33 and per<=40:\n",
    "    print(\"E grade\")\n",
    "else:\n",
    "    print(\"Fail\")\n"
   ]
  },
  {
   "cell_type": "markdown",
   "metadata": {},
   "source": []
  },
  {
   "cell_type": "markdown",
   "metadata": {},
   "source": []
  },
  {
   "cell_type": "code",
   "execution_count": 50,
   "metadata": {},
   "outputs": [
    {
     "name": "stdout",
     "output_type": "stream",
     "text": [
      "enter your number:23\n",
      "number is odd\n"
     ]
    }
   ],
   "source": [
    "num=int(input(\"enter your number:\"))\n",
    "if num%2==0:\n",
    "    print(\"numberis even\")\n",
    "else:\n",
    "    print(\"number is odd\")"
   ]
  },
  {
   "cell_type": "code",
   "execution_count": 30,
   "metadata": {},
   "outputs": [
    {
     "name": "stdout",
     "output_type": "stream",
     "text": [
      "5\n"
     ]
    }
   ],
   "source": [
    "data=[70,\"mohsin\",56.8,'M',54]\n",
    "print(len(fruits))"
   ]
  },
  {
   "cell_type": "code",
   "execution_count": 61,
   "metadata": {},
   "outputs": [
    {
     "name": "stdout",
     "output_type": "stream",
     "text": [
      "242\n"
     ]
    }
   ],
   "source": [
    "num=[9,12,76,89,56]\n",
    "print(num[0]+num[1]+num[2]+num[3]+num[4])"
   ]
  },
  {
   "cell_type": "code",
   "execution_count": 47,
   "metadata": {},
   "outputs": [
    {
     "name": "stdout",
     "output_type": "stream",
     "text": [
      "larget nymber is: 38\n"
     ]
    }
   ],
   "source": [
    "num=[2,12,38,4]\n",
    "if num[0]>num[1] and num[0]>num[2] and num[0]>num[3]:\n",
    "    print(\"larget nymber is:\",num[0])\n",
    "elif num[1]>num[2] and num[1]>num[2]:\n",
    "    print(\"larget nymber is:\",num[1])\n",
    "elif num[2]>num[3]:\n",
    "    print(\"larget nymber is:\",num[2])\n",
    "else:\n",
    "    print(\"larget nymber is:\",num[3])\n",
    "    \n",
    "    "
   ]
  },
  {
   "cell_type": "code",
   "execution_count": 55,
   "metadata": {},
   "outputs": [
    {
     "name": "stdout",
     "output_type": "stream",
     "text": [
      "[1, 1, 2, 3]\n"
     ]
    }
   ],
   "source": [
    "lists=[1,1,2,3,5,8,13,21,34,55,89]\n",
    "num=[]\n",
    "for i in lists:\n",
    "    if i<5:\n",
    "        num.append(i)\n",
    "\n",
    "print(num)\n",
    "    \n"
   ]
  },
  {
   "cell_type": "code",
   "execution_count": null,
   "metadata": {},
   "outputs": [],
   "source": []
  }
 ],
 "metadata": {
  "kernelspec": {
   "display_name": "Python 3",
   "language": "python",
   "name": "python3"
  },
  "language_info": {
   "codemirror_mode": {
    "name": "ipython",
    "version": 3
   },
   "file_extension": ".py",
   "mimetype": "text/x-python",
   "name": "python",
   "nbconvert_exporter": "python",
   "pygments_lexer": "ipython3",
   "version": "3.7.4"
  }
 },
 "nbformat": 4,
 "nbformat_minor": 2
}
