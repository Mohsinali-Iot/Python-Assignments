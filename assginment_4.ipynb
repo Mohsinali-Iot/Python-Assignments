{
 "cells": [
  {
   "cell_type": "code",
   "execution_count": 19,
   "metadata": {},
   "outputs": [
    {
     "name": "stdout",
     "output_type": "stream",
     "text": [
      "{'first_name': 'Ali', 'last_name': 'Askari', 'age': 25, 'city': 'Karachi'}\n",
      "{'first_name': 'Ali', 'last_name': 'Askari', 'age': 25, 'city': 'Karachi', 'qualification': 'Intermediate'}\n",
      "{'first_name': 'Ali', 'last_name': 'Askari', 'age': 25, 'city': 'Karachi'}\n"
     ]
    }
   ],
   "source": [
    "record={\n",
    "    \"first_name\":\"Ali\",\n",
    "    \"last_name\":\"Askari\",\n",
    "    \"age\":25,\n",
    "    \"city\":\"Karachi\",\n",
    "}\n",
    "\n",
    "print(record)\n",
    "record[\"qualification\"]=\"Intermediate\"\n",
    "print(record)\n",
    "del record[\"qualification\"]\n",
    "print(record)"
   ]
  },
  {
   "cell_type": "code",
   "execution_count": 30,
   "metadata": {},
   "outputs": [
    {
     "name": "stdout",
     "output_type": "stream",
     "text": [
      "city:karachi {'country': 'Pakistan', 'pop': 15741000, 'fact': 'It is the Sixth largest city in the world by city population'}\n",
      "city:lahore {'country': 'Pakistan', 'pop': 12188000, 'fact': 'It is the second largest and most populous city in Pakistan'}\n",
      "city:islamabad {'country': 'Pakistan', 'pop': 138465, 'fact': 'Has Faisal Mosque the forth largest mosque'}\n"
     ]
    }
   ],
   "source": [
    "cities={\n",
    "    \"karachi\":{\n",
    "        \"country\":\"Pakistan\",\n",
    "        \"pop\":15741000,\n",
    "        \"fact\":\"It is the Sixth largest city in the world by city population\",\n",
    "    },\n",
    "    \"lahore\":\n",
    "    {\"country\":\"Pakistan\",\n",
    "     \"pop\":12188000,\n",
    "     \"fact\":\"It is the second largest and most populous city in Pakistan\",\n",
    "    },\n",
    "    \"islamabad\":{\n",
    "        \"country\":\"Pakistan\",\n",
    "        \"pop\":138465,\n",
    "        \"fact\":\"Has Faisal Mosque the forth largest mosque\",\n",
    "    }\n",
    "}\n",
    "\n",
    "for (keys,values) in cities.items():\n",
    "    print(\"city:\"+keys,values)"
   ]
  },
  {
   "cell_type": "code",
   "execution_count": 4,
   "metadata": {},
   "outputs": [
    {
     "name": "stdout",
     "output_type": "stream",
     "text": [
      "Enter your age2\n",
      "Ticket is free\n",
      "Do you have any other customer:y\n",
      "Enter your age31\n",
      "The ticket is $15\n",
      "Do you have any other customer:y\n",
      "Enter your age45\n",
      "The ticket is $15\n",
      "Do you have any other customer:y\n",
      "Enter your age12\n",
      "The ticket is $10\n",
      "Do you have any other customer:n\n",
      "House full:\n"
     ]
    }
   ],
   "source": [
    "while True:\n",
    "    age=int(input(\"Enter your age\"))\n",
    "    if age<3:\n",
    "        print(\"Ticket is free\")\n",
    "    elif age>=3 and age<=12:\n",
    "        print(\"The ticket is $10\")\n",
    "    elif age>12:\n",
    "        print(\"The ticket is $15\")\n",
    "    ans=input(\"Do you have any other customer:\")\n",
    "    if ans=='y'or ans=='Y':\n",
    "        continue\n",
    "    else:\n",
    "        print(\"House full:\")\n",
    "        break\n",
    "    "
   ]
  },
  {
   "cell_type": "code",
   "execution_count": 10,
   "metadata": {},
   "outputs": [
    {
     "name": "stdout",
     "output_type": "stream",
     "text": [
      "Favourite book is History of Pakistan\n"
     ]
    }
   ],
   "source": [
    "def favourite_book(book):\n",
    "    print(\"Favourite book is\"+\" \"+book)\n",
    "\n",
    "favourite_book(\"History of Pakistan\")"
   ]
  },
  {
   "cell_type": "code",
   "execution_count": 3,
   "metadata": {},
   "outputs": [
    {
     "name": "stdout",
     "output_type": "stream",
     "text": [
      "Enter you number:20\n",
      "Hidden number is less then your input number \n",
      "Enter you number:13\n",
      "your Hidden number is greater then input number\n",
      "Enter you number:18\n",
      "Hidden number is less then your input number \n",
      "Game over\n",
      "Would you like to play again:y\n",
      "Enter you number:19\n",
      "Hidden number is less then your input number \n",
      "Enter you number:14\n",
      "Hidden number is less then your input number \n",
      "Enter you number:1\n",
      "your Hidden number is greater then input number\n",
      "Game over\n",
      "Would you like to play again:y\n",
      "Enter you number:10\n",
      "your Hidden number is greater then input number\n",
      "Enter you number:15\n",
      "your Hidden number is greater then input number\n",
      "Enter you number:17\n",
      "your Hidden number is greater then input number\n",
      "Game over\n",
      "Would you like to play again:y\n",
      "Enter you number:10\n",
      "Hidden number is less then your input number \n",
      "Enter you number:3\n",
      "Hidden number is less then your input number \n",
      "Enter you number:1\n",
      "Congratulations! You guess number is correct\n",
      "Would you like to play again:n\n"
     ]
    }
   ],
   "source": [
    "import random\n",
    "while True:\n",
    "    random_number=random.randrange(1,30,1)\n",
    "    #print(random_number)\n",
    "    i=1\n",
    "    \n",
    "    while i<=3:\n",
    "        u_input=int(input(\"Enter you number:\"))\n",
    "        if u_input==random_number:\n",
    "            print(\"Congratulations! You guess number is correct\")\n",
    "            break\n",
    "        elif random_number<u_input:\n",
    "            print(\"Hidden number is less then your input number \")\n",
    "            if i==3:\n",
    "                print(\"Game over\")\n",
    "                break\n",
    "            else:\n",
    "                i+=1\n",
    "                continue\n",
    "        elif random_number>u_input:\n",
    "            print(\"your Hidden number is greater then input number\")\n",
    "            if i==3:\n",
    "                print(\"Game over\")\n",
    "                break\n",
    "            else:\n",
    "                i+=1\n",
    "                continue\n",
    "    ans=input(\"Would you like to play again:\")\n",
    "    if ans=='y' or ans=='Y':\n",
    "        continue\n",
    "    else:\n",
    "        break\n"
   ]
  },
  {
   "cell_type": "code",
   "execution_count": null,
   "metadata": {},
   "outputs": [],
   "source": []
  }
 ],
 "metadata": {
  "kernelspec": {
   "display_name": "Python 3",
   "language": "python",
   "name": "python3"
  },
  "language_info": {
   "codemirror_mode": {
    "name": "ipython",
    "version": 3
   },
   "file_extension": ".py",
   "mimetype": "text/x-python",
   "name": "python",
   "nbconvert_exporter": "python",
   "pygments_lexer": "ipython3",
   "version": "3.7.4"
  }
 },
 "nbformat": 4,
 "nbformat_minor": 2
}
